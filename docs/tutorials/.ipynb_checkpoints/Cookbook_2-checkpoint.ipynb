{
 "cells": [
  {
   "cell_type": "markdown",
   "metadata": {},
   "source": [
    "# Fitting Gaussians"
   ]
  },
  {
   "cell_type": "code",
   "execution_count": 1,
   "metadata": {},
   "outputs": [],
   "source": [
    "# standard imports\n",
    "import matplotlib.pyplot as plt\n",
    "import bettermoments as bm\n",
    "import numpy as np"
   ]
  },
  {
   "cell_type": "code",
   "execution_count": 2,
   "metadata": {},
   "outputs": [],
   "source": [
    "# load up the data\n",
    "path = '../../../gofish/docs/user/TWHya_CS_32.fits'\n",
    "data, velax, bunits = bm.load_cube(path)"
   ]
  },
  {
   "cell_type": "code",
   "execution_count": 3,
   "metadata": {},
   "outputs": [],
   "source": [
    "# apply spectral smoothing\n",
    "smoothed_data = bm.smooth_data(data=data,\n",
    "                               smooth=0,\n",
    "                               polyorder=0)"
   ]
  },
  {
   "cell_type": "code",
   "execution_count": 4,
   "metadata": {},
   "outputs": [],
   "source": [
    "# estimate the RMS of the cube\n",
    "rms = bm.estimate_RMS(data=data)"
   ]
  },
  {
   "cell_type": "code",
   "execution_count": 5,
   "metadata": {},
   "outputs": [],
   "source": [
    "# load up a user-defined mask\n",
    "user_mask = bm.get_user_mask(data=data,\n",
    "                             user_mask_path=None)"
   ]
  },
  {
   "cell_type": "code",
   "execution_count": 35,
   "metadata": {},
   "outputs": [],
   "source": [
    "# define a threshold-based mask\n",
    "threshold_mask = bm.get_threshold_mask(data=data,\n",
    "                                       clip=15.0,\n",
    "                                       smooth_threshold_mask=0)"
   ]
  },
  {
   "cell_type": "code",
   "execution_count": 36,
   "metadata": {},
   "outputs": [],
   "source": [
    "# define a channel-based mask.\n",
    "channel_mask = bm.get_channel_mask(data=data,\n",
    "                                   firstchannel=0,\n",
    "                                   lastchannel=-1)"
   ]
  },
  {
   "cell_type": "code",
   "execution_count": 37,
   "metadata": {},
   "outputs": [],
   "source": [
    "# combine the three masks\n",
    "mask = bm.get_combined_mask(user_mask=user_mask,\n",
    "                            threshold_mask=threshold_mask,\n",
    "                            channel_mask=channel_mask,\n",
    "                            combine='and')"
   ]
  },
  {
   "cell_type": "code",
   "execution_count": 38,
   "metadata": {},
   "outputs": [
    {
     "data": {
      "text/plain": [
       "<matplotlib.colorbar.Colorbar at 0x7ff4ed182d50>"
      ]
     },
     "execution_count": 38,
     "metadata": {},
     "output_type": "execute_result"
    },
    {
     "data": {
      "image/png": "[encoded data removed]",
      "text/plain": [
       "<Figure size 432x288 with 2 Axes>"
      ]
     },
     "metadata": {
      "needs_background": "light"
     },
     "output_type": "display_data"
    }
   ],
   "source": [
    "fig, ax = plt.subplots()\n",
    "im = ax.imshow(np.sum(mask, axis=0), origin='lower')\n",
    "plt.colorbar(im)"
   ]
  },
  {
   "cell_type": "code",
   "execution_count": 39,
   "metadata": {},
   "outputs": [],
   "source": [
    "# mask the smoothed data\n",
    "masked_data = smoothed_data * mask"
   ]
  },
  {
   "cell_type": "code",
   "execution_count": 50,
   "metadata": {},
   "outputs": [],
   "source": [
    "# identify the pixels to fit with the MCMC\n",
    "indices = bm.get_finite_pixels(masked_data, 4)"
   ]
  },
  {
   "cell_type": "code",
   "execution_count": 54,
   "metadata": {},
   "outputs": [
    {
     "name": "stderr",
     "output_type": "stream",
     "text": [
      "100%|██████████| 10/10 [00:43<00:00,  4.35s/it]\n",
      "100%|██████████| 11/11 [00:47<00:00,  4.28s/it]\n",
      "100%|██████████| 10/10 [00:45<00:00,  4.57s/it]\n",
      "100%|██████████| 11/11 [00:48<00:00,  4.39s/it]\n",
      "100%|██████████| 10/10 [00:44<00:00,  4.49s/it]\n",
      "100%|██████████| 11/11 [00:47<00:00,  4.32s/it]\n",
      "100%|██████████| 10/10 [00:42<00:00,  4.25s/it]\n",
      "100%|██████████| 11/11 [00:45<00:00,  4.15s/it]\n"
     ]
    }
   ],
   "source": [
    "# collapse the data\n",
    "\n",
    "fits = bm.collapse_analytical(velax, data, rms, 'gaussian',\n",
    "                              indices=indices, chunks=8,\n",
    "                              mcmc='emcee',\n",
    "                              nwalkers=32)"
   ]
  },
  {
   "cell_type": "code",
   "execution_count": null,
   "metadata": {},
   "outputs": [],
   "source": []
  }
 ],
 "metadata": {
  "kernelspec": {
   "display_name": "Python 3",
   "language": "python",
   "name": "python3"
  },
  "language_info": {
   "codemirror_mode": {
    "name": "ipython",
    "version": 3
   },
   "file_extension": ".py",
   "mimetype": "text/x-python",
   "name": "python",
   "nbconvert_exporter": "python",
   "pygments_lexer": "ipython3",
   "version": "3.7.4"
  }
 },
 "nbformat": 4,
 "nbformat_minor": 2
}
